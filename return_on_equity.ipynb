{
 "nbformat": 4,
 "nbformat_minor": 2,
 "metadata": {
  "language_info": {
   "name": "python",
   "codemirror_mode": {
    "name": "ipython",
    "version": 3
   },
   "version": "3.8.2-final"
  },
  "orig_nbformat": 2,
  "file_extension": ".py",
  "mimetype": "text/x-python",
  "name": "python",
  "npconvert_exporter": "python",
  "pygments_lexer": "ipython3",
  "version": 3,
  "kernelspec": {
   "name": "python38264bit54544f82fc8a44af8fc4a80f5315ed11",
   "display_name": "Python 3.8.2 64-bit"
  }
 },
 "cells": [
  {
   "cell_type": "code",
   "execution_count": 24,
   "metadata": {},
   "outputs": [
    {
     "output_type": "display_data",
     "data": {
      "text/html": "        <script type=\"text/javascript\">\n        window.PlotlyConfig = {MathJaxConfig: 'local'};\n        if (window.MathJax) {MathJax.Hub.Config({SVG: {font: \"STIX-Web\"}});}\n        if (typeof require !== 'undefined') {\n        require.undef(\"plotly\");\n        requirejs.config({\n            paths: {\n                'plotly': ['https://cdn.plot.ly/plotly-latest.min']\n            }\n        });\n        require(['plotly'], function(Plotly) {\n            window._Plotly = Plotly;\n        });\n        }\n        </script>\n        "
     },
     "metadata": {}
    },
    {
     "output_type": "display_data",
     "data": {
      "text/html": "        <script type=\"text/javascript\">\n        window.PlotlyConfig = {MathJaxConfig: 'local'};\n        if (window.MathJax) {MathJax.Hub.Config({SVG: {font: \"STIX-Web\"}});}\n        if (typeof require !== 'undefined') {\n        require.undef(\"plotly\");\n        requirejs.config({\n            paths: {\n                'plotly': ['https://cdn.plot.ly/plotly-latest.min']\n            }\n        });\n        require(['plotly'], function(Plotly) {\n            window._Plotly = Plotly;\n        });\n        }\n        </script>\n        "
     },
     "metadata": {}
    }
   ],
   "source": [
    "import os\n",
    "import pandas as pd\n",
    "import cufflinks as cf\n",
    "from storage import FStruct, FStorage, SECURITIES, DIVIDENDS, TRADE_HISTORY, MARKETDATA, DIVIDENDS_PROCESSED\n",
    "\n",
    "cf.set_config_file(offline=True)\n",
    "cf.go_offline()\n",
    "root_dir = os.path.abspath(\"\")\n",
    "fstruct = FStruct(root_dir)\n",
    "fstorage = FStorage(root_dir)"
   ]
  },
  {
   "cell_type": "code",
   "execution_count": 25,
   "metadata": {},
   "outputs": [],
   "source": [
    "sec_id = \"SBER\"\n",
    "sale_year = 2020\n",
    "sale_month = 3\n",
    "broker_commission = 0.07*0.01\n",
    "tax_value = 0.13\n",
    "\n",
    "sale_month_start = pd.Timestamp(sale_year, sale_month, 1)\n",
    "sale_month_finish = pd.Timestamp(sale_year, sale_month, sale_month_start.days_in_month)\n",
    "\n",
    "hist = fstorage.open_data(TRADE_HISTORY, sec_id, index_col=\"TRADEDATE\").sort_values(\"TRADEDATE\", ascending = True)[[\"LEGALCLOSEPRICE\"]]\n",
    "hist_sale_month = hist.loc[(hist.index >= sale_month_start) & (hist.index <= sale_month_finish), \"LEGALCLOSEPRICE\"]\n",
    "last_div_date = pd.Timestamp(hist_sale_month.index.values[hist_sale_month.size // 2])\n",
    "# sale_price = mean by sale month\n",
    "sale_price = hist_sale_month.mean()\n",
    "show_date = sale_month_start + pd.DateOffset(days=-30)\n",
    "\n",
    "divs = fstorage.open_data(DIVIDENDS_PROCESSED, sec_id, index_col=\"t2date\").sort_values(\"t2date\", ascending = True)[[\"value\"]]\n",
    "divs = divs.loc[divs.index<=last_div_date]\n",
    "div_sum = divs[\"value\"].sum()"
   ]
  },
  {
   "cell_type": "code",
   "execution_count": 29,
   "metadata": {},
   "outputs": [],
   "source": [
    "res = hist.join(divs)\n",
    "res[\"div_cum_sum\"] = res[\"value\"].fillna(0).cumsum()\n",
    "res[\"inv_div_cum_sum\"] = div_sum - res[\"div_cum_sum\"]\n",
    "\n",
    "res[\"commission\"] = (sale_price + res[\"LEGALCLOSEPRICE\"])*broker_commission\n",
    "\n",
    "res[\"income_tax_value\"] = 0.0\n",
    "res.loc[last_div_date - pd.DateOffset(years=3) <= res.index, \"income_tax_value\"] = tax_value\n",
    "res[\"tax\"] = (sale_price - res[\"LEGALCLOSEPRICE\"] - res[\"commission\"])*res[\"income_tax_value\"] + res[\"inv_div_cum_sum\"] * tax_value\n",
    "\n",
    "res[\"income\"] = (res[\"inv_div_cum_sum\"] + sale_price - res[\"LEGALCLOSEPRICE\"])\n",
    "res[\"clear_income\"] = res[\"income\"] - res[\"tax\"] - res[\"commission\"]\n",
    "\n",
    "res = res.loc[res.index<last_div_date]\n",
    "res[\"year_percent\"] = res[\"income\"]*100.0*365.25/(res[\"LEGALCLOSEPRICE\"]*(last_div_date - res.index).days)\n",
    "res[\"clear_year_percent\"] = res[\"clear_income\"]*100.0*365.25/(res[\"LEGALCLOSEPRICE\"]*(last_div_date - res.index).days)\n",
    "\n",
    "# res[res.index<show_date].iplot(y=[\"year_percent\", \"clear_year_percent\"], fill=True, xTitle=\"Dates\", yTitle=\"Percents\", title=\"Interest income per annum ({})\".format(sec_id), dimensions=(1400, 800))"
   ]
  }
 ]
}