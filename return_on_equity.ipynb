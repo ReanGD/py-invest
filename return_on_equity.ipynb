{
 "nbformat": 4,
 "nbformat_minor": 2,
 "metadata": {
  "language_info": {
   "name": "python",
   "codemirror_mode": {
    "name": "ipython",
    "version": 3
   },
   "version": "3.8.2-final"
  },
  "orig_nbformat": 2,
  "file_extension": ".py",
  "mimetype": "text/x-python",
  "name": "python",
  "npconvert_exporter": "python",
  "pygments_lexer": "ipython3",
  "version": 3,
  "kernelspec": {
   "name": "python38264bit54544f82fc8a44af8fc4a80f5315ed11",
   "display_name": "Python 3.8.2 64-bit"
  }
 },
 "cells": [
  {
   "cell_type": "code",
   "execution_count": 5,
   "metadata": {},
   "outputs": [
    {
     "output_type": "display_data",
     "data": {
      "text/html": "        <script type=\"text/javascript\">\n        window.PlotlyConfig = {MathJaxConfig: 'local'};\n        if (window.MathJax) {MathJax.Hub.Config({SVG: {font: \"STIX-Web\"}});}\n        if (typeof require !== 'undefined') {\n        require.undef(\"plotly\");\n        requirejs.config({\n            paths: {\n                'plotly': ['https://cdn.plot.ly/plotly-latest.min']\n            }\n        });\n        require(['plotly'], function(Plotly) {\n            window._Plotly = Plotly;\n        });\n        }\n        </script>\n        "
     },
     "metadata": {}
    },
    {
     "output_type": "display_data",
     "data": {
      "text/html": "        <script type=\"text/javascript\">\n        window.PlotlyConfig = {MathJaxConfig: 'local'};\n        if (window.MathJax) {MathJax.Hub.Config({SVG: {font: \"STIX-Web\"}});}\n        if (typeof require !== 'undefined') {\n        require.undef(\"plotly\");\n        requirejs.config({\n            paths: {\n                'plotly': ['https://cdn.plot.ly/plotly-latest.min']\n            }\n        });\n        require(['plotly'], function(Plotly) {\n            window._Plotly = Plotly;\n        });\n        }\n        </script>\n        "
     },
     "metadata": {}
    }
   ],
   "source": [
    "import os\n",
    "import pandas as pd\n",
    "import cufflinks as cf\n",
    "from analitics import Profit, Inflation\n",
    "from storage import FStruct, FStorage, INFLATION, SECURITIES, DIVIDENDS, TRADE_HISTORY, MARKETDATA, DIVIDENDS_PROCESSED\n",
    "\n",
    "cf.set_config_file(offline=True)\n",
    "cf.go_offline()\n",
    "\n",
    "tax_value = 0.13\n",
    "broker_commission = 0.07+0.01\n",
    "root_dir = os.path.abspath(\"\")\n",
    "\n",
    "fstruct = FStruct(root_dir)\n",
    "fstorage = FStorage(root_dir)\n",
    "inflation = Inflation(root_dir)\n",
    "profit = Profit(tax_value, broker_commission, inflation)"
   ]
  },
  {
   "cell_type": "code",
   "execution_count": 21,
   "metadata": {},
   "outputs": [],
   "source": [
    "def calc_rate(sec_id, sale_year, sale_month, price_field):\n",
    "    sale_month_start = pd.Timestamp(sale_year, sale_month, 1)\n",
    "    sale_month_finish = pd.Timestamp(sale_year, sale_month, sale_month_start.days_in_month)\n",
    "\n",
    "    hist = fstorage.open_data(TRADE_HISTORY, sec_id, index_col=\"TRADEDATE\").sort_values(\"TRADEDATE\", ascending = True)[[price_field]]\n",
    "    divs = fstorage.open_data(DIVIDENDS_PROCESSED, sec_id, index_col=\"t2date\").sort_values(\"t2date\", ascending = True)[[\"value\"]]\n",
    "\n",
    "    hist_sale_month = hist.loc[(hist.index >= sale_month_start) & (hist.index <= sale_month_finish), price_field]\n",
    "    sale_date = pd.Timestamp(hist_sale_month.index.values[hist_sale_month.size // 2])\n",
    "    # sale_price = mean by sale month\n",
    "    sale_price = hist_sale_month.mean()\n",
    "\n",
    "    divs = divs.loc[divs.index<=sale_date]\n",
    "    hist = hist.loc[hist.index<=sale_date]\n",
    "    div_sum = divs[\"value\"].sum()\n",
    "\n",
    "    res = hist.join(divs)\n",
    "    res[\"buy_date\"] = res.index\n",
    "    res[\"dividends\"] = div_sum - res[\"value\"].fillna(0).cumsum()\n",
    "    res[\"real_rate\"] = res.apply(lambda row: profit.real_rate(row[\"buy_date\"], row[price_field], sale_date, sale_price, row[\"dividends\"]), axis=1)\n",
    "    return res[[\"real_rate\"]]"
   ]
  },
  {
   "cell_type": "code",
   "execution_count": 25,
   "metadata": {},
   "outputs": [],
   "source": [
    "sec_id = \"TATN\"\n",
    "sale_year = 2020\n",
    "sale_month = 1\n",
    "\n",
    "res = calc_rate(sec_id, sale_year, sale_month, \"LEGALCLOSEPRICE\")"
   ]
  },
  {
   "cell_type": "code",
   "execution_count": 27,
   "metadata": {},
   "outputs": [],
   "source": [
    "show_date = pd.Timestamp(sale_year, sale_month, 1) + pd.DateOffset(days=-30)\n",
    "# res[res.index<show_date].iplot(y=[\"real_rate\"], fill=True, xTitle=\"Dates\", yTitle=\"Percents\", title=\"Interest income per annum ({})\".format(sec_id), dimensions=(1400, 800))"
   ]
  }
 ]
}