{
 "nbformat": 4,
 "nbformat_minor": 2,
 "metadata": {
  "language_info": {
   "name": "python",
   "codemirror_mode": {
    "name": "ipython",
    "version": 3
   },
   "version": "3.8.2-final"
  },
  "orig_nbformat": 2,
  "file_extension": ".py",
  "mimetype": "text/x-python",
  "name": "python",
  "npconvert_exporter": "python",
  "pygments_lexer": "ipython3",
  "version": 3,
  "kernelspec": {
   "name": "python38264bit54544f82fc8a44af8fc4a80f5315ed11",
   "display_name": "Python 3.8.2 64-bit"
  }
 },
 "cells": [
  {
   "cell_type": "code",
   "execution_count": 80,
   "metadata": {},
   "outputs": [],
   "source": [
    "import os\n",
    "import pandas as pd\n",
    "import cufflinks as cf\n",
    "from msk_api.load import Loader\n",
    "\n",
    "cf.set_config_file(offline=False)\n",
    "loader = Loader(\"\", \"\", \"\", os.path.abspath(\"\"))"
   ]
  },
  {
   "cell_type": "code",
   "execution_count": 88,
   "metadata": {},
   "outputs": [],
   "source": [
    "secid = \"YNDX\"\n",
    "sale_date = pd.Timestamp(2019, 12, 20)\n",
    "show_date = sale_date - pd.DateOffset(days=20)\n",
    "\n",
    "file_path = loader.get_data_file_path(\"trade_history\", secid)\n",
    "hist = pd.read_csv(file_path, sep=\";\", parse_dates=[\"TRADEDATE\"], infer_datetime_format=True, index_col=\"TRADEDATE\").sort_values(\"TRADEDATE\", ascending = True)[[\"LEGALCLOSEPRICE\"]]\n",
    "hist = hist.loc[hist.index<=sale_date]\n",
    "sale_price = hist.loc[hist.index == sale_date, \"LEGALCLOSEPRICE\"].values[0]\n",
    "\n",
    "file_path = loader.get_data_file_path(\"dividends_processed\", secid)\n",
    "divs = pd.read_csv(file_path, sep=\";\", parse_dates=[\"t2date\"], infer_datetime_format=True, index_col=\"t2date\").sort_values(\"t2date\", ascending = True)[[\"value\"]]\n",
    "divs = divs.loc[divs.index<=sale_date]\n",
    "\n",
    "res = hist.join(divs)\n",
    "res[\"div_sum\"] = res[\"value\"].fillna(0).cumsum()\n",
    "div_sum = res.loc[res.index == sale_date, \"div_sum\"].values[0]\n",
    "res[\"inv_div_sum\"] = div_sum - res[\"div_sum\"]\n",
    "res[\"year_percent\"] = (sale_price - res[\"LEGALCLOSEPRICE\"])*100.0*365.0/(res[\"LEGALCLOSEPRICE\"]*(sale_date - res.index).days)\n",
    "\n",
    "# res.loc[res.index<=show_date].iplot(y=[\"year_percent\"], colorscale=\"-greens\", fill=True, xTitle=\"Dates\", yTitle=\"Percents\", title=\"Interest income per annum ({})\".format(secid), dimensions=(1400, 800))"
   ]
  }
 ]
}